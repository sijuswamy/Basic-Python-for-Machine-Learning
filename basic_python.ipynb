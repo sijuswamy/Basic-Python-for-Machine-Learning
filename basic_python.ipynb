{
  "nbformat": 4,
  "nbformat_minor": 0,
  "metadata": {
    "colab": {
      "provenance": [],
      "authorship_tag": "ABX9TyN/P1VvA1wVTznyRCmBqha6",
      "include_colab_link": true
    },
    "kernelspec": {
      "name": "python3",
      "display_name": "Python 3"
    },
    "language_info": {
      "name": "python"
    }
  },
  "cells": [
    {
      "cell_type": "markdown",
      "metadata": {
        "id": "view-in-github",
        "colab_type": "text"
      },
      "source": [
        "<a href=\"https://colab.research.google.com/github/sijuswamy/Basic-Python-for-Machine-Learning/blob/main/basic_python.ipynb\" target=\"_parent\"><img src=\"https://colab.research.google.com/assets/colab-badge.svg\" alt=\"Open In Colab\"/></a>"
      ]
    },
    {
      "cell_type": "markdown",
      "source": [
        "# Introduction to `Python`\n",
        "\n",
        "First program: Displays a Hello"
      ],
      "metadata": {
        "id": "xCH_ilKd7JiT"
      }
    },
    {
      "cell_type": "code",
      "source": [
        "print(\" Hello\")"
      ],
      "metadata": {
        "colab": {
          "base_uri": "https://localhost:8080/"
        },
        "id": "x2z0nFdi73-X",
        "outputId": "53ea5496-b826-4d86-c92d-506a6581d92c"
      },
      "execution_count": 1,
      "outputs": [
        {
          "output_type": "stream",
          "name": "stdout",
          "text": [
            " Hello\n"
          ]
        }
      ]
    },
    {
      "cell_type": "markdown",
      "source": [
        ">Program to assign an integer ans display it"
      ],
      "metadata": {
        "id": "XV0jnbQa9OpF"
      }
    },
    {
      "cell_type": "code",
      "source": [
        "a=10\n",
        "print(\"Value of the variable a is:\",a)"
      ],
      "metadata": {
        "colab": {
          "base_uri": "https://localhost:8080/"
        },
        "id": "Qsto7dwy8pl0",
        "outputId": "73a1af64-40b9-4b13-cd62-3a548187c19b"
      },
      "execution_count": 3,
      "outputs": [
        {
          "output_type": "stream",
          "name": "stdout",
          "text": [
            "Value of the variable a is: 10\n"
          ]
        }
      ]
    },
    {
      "cell_type": "markdown",
      "source": [
        "> Program to find sum of two numbers"
      ],
      "metadata": {
        "id": "jdkIs1a193WE"
      }
    },
    {
      "cell_type": "code",
      "source": [
        "a=10\n",
        "b=24\n",
        "sum=a+b\n",
        "print(\"The sum of numbers is:\",sum)"
      ],
      "metadata": {
        "colab": {
          "base_uri": "https://localhost:8080/"
        },
        "id": "DExs9HLD97ZS",
        "outputId": "43d54524-c4cc-4cda-9ba0-2294461044e3"
      },
      "execution_count": 4,
      "outputs": [
        {
          "output_type": "stream",
          "name": "stdout",
          "text": [
            "The sum of numbers is: 34\n"
          ]
        }
      ]
    },
    {
      "cell_type": "markdown",
      "source": [
        "> Read two numbers from the user and find the sum"
      ],
      "metadata": {
        "id": "Wx-1NPhi-UvN"
      }
    },
    {
      "cell_type": "code",
      "source": [
        "a=int(input(\"Enter the first number:\")) # here input function read values as strings. int() cast it to integer"
      ],
      "metadata": {
        "colab": {
          "base_uri": "https://localhost:8080/"
        },
        "id": "Rv97zVmk-ZjN",
        "outputId": "b9a9c38b-8afe-40d6-91c3-b7f20d5ddf39"
      },
      "execution_count": 9,
      "outputs": [
        {
          "name": "stdout",
          "output_type": "stream",
          "text": [
            "Enter the first number:12\n"
          ]
        }
      ]
    },
    {
      "cell_type": "code",
      "source": [
        "b=int(input(\"Enter the second number:\"))"
      ],
      "metadata": {
        "colab": {
          "base_uri": "https://localhost:8080/"
        },
        "id": "IYNO8eNO-hVW",
        "outputId": "be8bcf27-ee6d-4a3b-ffd1-0a046414ce04"
      },
      "execution_count": 10,
      "outputs": [
        {
          "name": "stdout",
          "output_type": "stream",
          "text": [
            "Enter the second number:78\n"
          ]
        }
      ]
    },
    {
      "cell_type": "code",
      "source": [
        "# displaying a and b\n",
        "print(a)"
      ],
      "metadata": {
        "colab": {
          "base_uri": "https://localhost:8080/"
        },
        "id": "Z8flNYEr-045",
        "outputId": "900863c0-1c43-4ff2-d917-b0f6b9c366e4"
      },
      "execution_count": 7,
      "outputs": [
        {
          "output_type": "stream",
          "name": "stdout",
          "text": [
            "5\n"
          ]
        }
      ]
    },
    {
      "cell_type": "code",
      "source": [
        "sum=a+b\n",
        "print(sum)"
      ],
      "metadata": {
        "colab": {
          "base_uri": "https://localhost:8080/"
        },
        "id": "d3PtZSIn_rjL",
        "outputId": "d8bb0957-f02c-4a37-a0d9-644c5e0a5aef"
      },
      "execution_count": 11,
      "outputs": [
        {
          "output_type": "stream",
          "name": "stdout",
          "text": [
            "90\n"
          ]
        }
      ]
    }
  ]
}